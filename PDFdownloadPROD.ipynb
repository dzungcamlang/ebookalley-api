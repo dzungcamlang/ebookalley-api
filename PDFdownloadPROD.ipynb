{
 "cells": [
  {
   "cell_type": "code",
   "execution_count": 1,
   "metadata": {},
   "outputs": [
    {
     "name": "stdout",
     "output_type": "stream",
     "text": [
      "enter book name: zero to one\n",
      "https://pdfdrive.com/zero-to-one-notes-on-startups-or-how-to-build-the-future-d162071379.html\n",
      "https://pdfdrive.com/copyright-2014-by-peter-thiel-d18629458.html\n",
      "https://pdfdrive.com/one-more-zero-advanced-forex-breakouts-d10153505.html\n",
      "https://pdfdrive.com/zero-to-one-notes-on-startups-or-how-to-build-the-future-d162069937.html\n",
      "https://pdfdrive.com/zero-to-one-summary-d32593607.html\n",
      "https://pdfdrive.com/kirk-beauty-zero-gmbh-kirk-beauty-one-gmbh-beauty-holding-zero-gmbh-d41858766.html\n",
      "https://pdfdrive.com/kirk-beauty-zero-gmbh-kirk-beauty-one-gmbh-beauty-holding-zero-gmbh-d191651195.html\n",
      "https://pdfdrive.com/zero-to-one-summary-d33184955.html\n",
      "https://pdfdrive.com/zero-to-one-summary-the-investors-podcast-d18627762.html\n",
      "https://pdfdrive.com/zero-to-one-summary-d55398892.html\n",
      "https://pdfdrive.com/math4321-game-theory-topic-one-zero-sum-games-and-saddle-point-equilibriums-11-d58563976.html\n",
      "https://pdfdrive.com/matrix-calculus-and-zero-one-matrices-statistical-and-econometric-applications-d161952610.html\n",
      "https://pdfdrive.com/pdf-zero-to-one-wie-innovation-unsere-gesellschaft-rettet-download-d140850865.html\n",
      "https://pdfdrive.com/ones-and-zeros-understanding-boolean-algebra-digital-circuits-and-the-logic-of-sets-ieee-press-d185996350.html\n",
      "https://pdfdrive.com/1-instruction-formats-one-address-two-address-zero-address-three-addresses-and-comparison-d58059526.html\n",
      "https://pdfdrive.com/zero-one-integer-programming-d50875017.html\n",
      "https://pdfdrive.com/zero-to-one-d187627644.html\n",
      "https://pdfdrive.com/zeros-ones-d40803826.html\n",
      "https://pdfdrive.com/physics-of-zero-and-one-dimensional-nanoscopic-systems-d186786797.html\n",
      "https://pdfdrive.com/from-one-to-zero-a-universal-history-of-numbers-d186712954.html\n",
      "enter number of book to download1\n",
      "Link:\n",
      "https://pdfdrive.com/download.pdf?id=18629458&h=e13b3b2efaaa912184424aa0f8b52601&u=cache\n"
     ]
    }
   ],
   "source": [
    "from pdfapi import *\n",
    "\n",
    "book_name = input('enter book name: ')\n",
    "\n",
    "book_list = get_books_arr(book_name)\n",
    "\n",
    "for i in book_list:\n",
    "    print(i['link'])\n",
    "    \n",
    "index = int(input('enter number of book to download'))\n",
    "\n",
    "if index <= 20:\n",
    "    print('Link:')\n",
    "    print(get_book_url(book_list[index]['link']))"
   ]
  },
  {
   "cell_type": "code",
   "execution_count": null,
   "metadata": {},
   "outputs": [],
   "source": []
  },
  {
   "cell_type": "code",
   "execution_count": null,
   "metadata": {},
   "outputs": [],
   "source": []
  }
 ],
 "metadata": {
  "kernelspec": {
   "display_name": "Python 3",
   "language": "python",
   "name": "python3"
  },
  "language_info": {
   "codemirror_mode": {
    "name": "ipython",
    "version": 3
   },
   "file_extension": ".py",
   "mimetype": "text/x-python",
   "name": "python",
   "nbconvert_exporter": "python",
   "pygments_lexer": "ipython3",
   "version": "3.6.2"
  }
 },
 "nbformat": 4,
 "nbformat_minor": 2
}
