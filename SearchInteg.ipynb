{
 "cells": [
  {
   "cell_type": "code",
   "execution_count": 48,
   "metadata": {},
   "outputs": [],
   "source": [
    "import requests\n",
    "from bs4 import BeautifulSoup\n",
    "import json\n",
    "import re\n",
    "\n",
    "def get_books_arr(book_name):\n",
    "    def get_dpage_link(link):\n",
    "        part = re.findall(r'(-e[0-9]\\d+)', link)[0]\n",
    "        new_link = ''\n",
    "        for x,i in enumerate(link):\n",
    "            if x == link.find(part)+1:\n",
    "                i = 'd'\n",
    "            new_link += i\n",
    "        return new_link\n",
    "        \n",
    "    BASE_URL = 'https://pdfdrive.com'\n",
    "    url = f'https://www.pdfdrive.com/search?q={book_name}'\n",
    "    res = requests.get(url)\n",
    "    soup = BeautifulSoup(res.text, 'html.parser')\n",
    "    books_arr = soup.find_all('div',{'class':'file-left'})\n",
    "    book_links = []\n",
    "    for i in books_arr:\n",
    "        link = i.find('a')['href']\n",
    "        if link[0] is '/':\n",
    "            link = BASE_URL + link\n",
    "\n",
    "        link = get_dpage_link(link)\n",
    "        thumb = i.find('img')['src']\n",
    "        book_links.append({'link':link, 'img':thumb})\n",
    "    return book_links"
   ]
  },
  {
   "cell_type": "code",
   "execution_count": null,
   "metadata": {},
   "outputs": [],
   "source": []
  },
  {
   "cell_type": "code",
   "execution_count": null,
   "metadata": {},
   "outputs": [],
   "source": []
  }
 ],
 "metadata": {
  "kernelspec": {
   "display_name": "Python 3",
   "language": "python",
   "name": "python3"
  },
  "language_info": {
   "codemirror_mode": {
    "name": "ipython",
    "version": 3
   },
   "file_extension": ".py",
   "mimetype": "text/x-python",
   "name": "python",
   "nbconvert_exporter": "python",
   "pygments_lexer": "ipython3",
   "version": "3.6.2"
  }
 },
 "nbformat": 4,
 "nbformat_minor": 2
}
