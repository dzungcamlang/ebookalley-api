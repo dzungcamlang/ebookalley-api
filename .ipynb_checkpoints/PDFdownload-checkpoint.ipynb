{
 "cells": [
  {
   "cell_type": "code",
   "execution_count": 15,
   "metadata": {},
   "outputs": [],
   "source": [
    "import requests\n",
    "from bs4 import BeautifulSoup\n",
    "import json\n",
    "\n",
    "#custom replace function\n",
    "def quot_replace(string):\n",
    "    new_string = ''\n",
    "    for x,i in enumerate(string):\n",
    "        if i is \"'\":\n",
    "            new_string += '\"'\n",
    "        else:\n",
    "            new_string += i\n",
    "    return new_string\n",
    "\n",
    "#method to get final url\n",
    "def get_book_url(base_url):\n",
    "    #inner method to get file url\n",
    "    def get_file_url(book_url):\n",
    "        res = requests.get(book_url)\n",
    "        soup = BeautifulSoup(res.text, 'html.parser')\n",
    "        url = soup.find('a')['href']\n",
    "        BASE_URL = 'https://pdfdrive.com'\n",
    "        if '/download' in url:\n",
    "            url = BASE_URL + url\n",
    "            return url\n",
    "        \n",
    "    res = requests.get(base_url)\n",
    "    soup = BeautifulSoup(res.text, 'html.parser')\n",
    "    if '{id:' in res.text:\n",
    "        index = res.text.index('/ebook/broken')\n",
    "        start = res.text[index+15:index+100]\n",
    "        end = start.index(').d')\n",
    "        string = start[:end]\n",
    "        string = string.replace('id','\"id\"').replace('session','\"session\"').replace('r','\"r\"')\n",
    "        string = quot_replace(string)\n",
    "        data = json.loads(string)\n",
    "        book_url = f\"https://www.pdfdrive.com/ebook/broken?id={data['id']}&session={data['session']}&r={data['r']}\"\n",
    "        return get_file_url(book_url)\n"
   ]
  },
  {
   "cell_type": "code",
   "execution_count": null,
   "metadata": {},
   "outputs": [],
   "source": [
    "get_book_url()"
   ]
  },
  {
   "cell_type": "code",
   "execution_count": null,
   "metadata": {},
   "outputs": [],
   "source": []
  }
 ],
 "metadata": {
  "kernelspec": {
   "display_name": "Python 3",
   "language": "python",
   "name": "python3"
  },
  "language_info": {
   "codemirror_mode": {
    "name": "ipython",
    "version": 3
   },
   "file_extension": ".py",
   "mimetype": "text/x-python",
   "name": "python",
   "nbconvert_exporter": "python",
   "pygments_lexer": "ipython3",
   "version": "3.6.2"
  }
 },
 "nbformat": 4,
 "nbformat_minor": 2
}
