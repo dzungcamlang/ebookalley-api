{
 "cells": [
  {
   "cell_type": "code",
   "execution_count": 18,
   "metadata": {},
   "outputs": [],
   "source": [
    "import requests\n",
    "from bs4 import BeautifulSoup\n",
    "import json\n",
    "#r'(-e[0-9]\\d+'"
   ]
  },
  {
   "cell_type": "code",
   "execution_count": 2,
   "metadata": {},
   "outputs": [],
   "source": [
    "book_name = 'relentless'\n",
    "url = f'https://www.pdfdrive.com/search?q={book_name}'"
   ]
  },
  {
   "cell_type": "code",
   "execution_count": 3,
   "metadata": {},
   "outputs": [],
   "source": [
    "res = requests.get(url)"
   ]
  },
  {
   "cell_type": "code",
   "execution_count": 4,
   "metadata": {},
   "outputs": [],
   "source": [
    "soup = BeautifulSoup(res.text, 'html.parser')"
   ]
  },
  {
   "cell_type": "code",
   "execution_count": 30,
   "metadata": {},
   "outputs": [],
   "source": [
    "books_arr = soup.find_all('div',{'class':'file-left'})"
   ]
  },
  {
   "cell_type": "code",
   "execution_count": 28,
   "metadata": {},
   "outputs": [],
   "source": [
    "link = div[0].find('a')['href']\n",
    "thumb = div[0].find('img')['src']"
   ]
  },
  {
   "cell_type": "code",
   "execution_count": 35,
   "metadata": {},
   "outputs": [],
   "source": [
    "import re\n",
    "\n",
    "book_links = []\n",
    "for i in books_arr:\n",
    "    link = i.find('a')['href']\n",
    "#   replace_letter = re.findall(r'(-e[0-9]\\d+',link)[0]\n",
    "    \n",
    "#     link = link.replace(replace_letter,'d')\n",
    "    thumb = i.find('img')['src']\n",
    "    book_links.append((link,thumb))"
   ]
  },
  {
   "cell_type": "code",
   "execution_count": 32,
   "metadata": {},
   "outputs": [
    {
     "data": {
      "text/plain": [
       "[('/relentless-from-good-to-great-to-unstoppable-e158154060.html',\n",
       "  'https://s.pdfdrive.com/assets/thumbs/7b9/7b9b957f67efe9937275d9d19c905022-s.jpg'),\n",
       " ('/the-ultimate-sales-machine-turbocharge-your-business-with-relentless-focus-on-12-key-strategies-e156906849.html',\n",
       "  'https://s.pdfdrive.com/assets/thumbs/295/29597138b83c521136d304d36df15278-s.jpg'),\n",
       " ('/crazy-love-overwhelmed-by-a-relentless-god-e156982148.html',\n",
       "  'https://s.pdfdrive.com/assets/thumbs/605/6051e2dc4205c3dc558d2f16a686ba06-s.jpg'),\n",
       " ('/never-give-up-relentless-determination-to-overcome-lifes-challenges-e177857604.html',\n",
       "  'https://s.pdfdrive.com/assets/thumbs/6e2/6e27679e9dc12fffbfbdbe9cd6981a4e-s.jpg'),\n",
       " ('/strategic-electronic-business-e45526384.html',\n",
       "  'https://s.pdfdrive.com/assets/thumbs/a23/a23dd19312f4b169dc9c510c9e8aca1f-s.jpg'),\n",
       " ('/mbs-thesis-strategic-electronic-business-towards-a-paradigm-pdf-e41999930.html',\n",
       "  'https://s.pdfdrive.com/assets/thumbs/090/0906e143b3237d264b8d299fe56905da-s.jpg'),\n",
       " ('/burning-desire-e193603656.html',\n",
       "  'https://s.pdfdrive.com/assets/thumbs/a98/a98fb3f4a6c0f5d7d6d2201189b8d8f7-s.jpg'),\n",
       " ('/burning-desire-e193604027.html',\n",
       "  'https://s.pdfdrive.com/assets/thumbs/fb7/fb7116f74aaee69a800e1c396e050935-s.jpg'),\n",
       " ('/topless-an-urban-drama-e193604454.html',\n",
       "  'https://s.pdfdrive.com/assets/thumbs/f53/f5345ddce5ac0ff1d899c8f6784012c5-s.jpg'),\n",
       " ('/topless-an-urban-drama-e193604748.html',\n",
       "  'https://s.pdfdrive.com/assets/thumbs/777/777b040004da5ec19b57944671b92489-s.jpg'),\n",
       " ('/relentless-e21339602.html',\n",
       "  'https://s.pdfdrive.com/assets/thumbs/308/308291bd188bc189fc22fee17e7f2248-s.jpg'),\n",
       " ('/the-eccentric-billionaire-john-d-macarthur-empire-builder-reluctant-philanthropist-relentless-e156741201.html',\n",
       "  'https://s.pdfdrive.com/assets/thumbs/956/956733ba9ede23acc7f5ddcbe03b6876-s.jpg'),\n",
       " ('/never-give-up-relentless-determination-to-overcome-lifes-challenges-e186352559.html',\n",
       "  'https://s.pdfdrive.com/assets/thumbs/1f4/1f43ff6343242eb73af865d0582c8ae3-s.jpg'),\n",
       " ('/relentless-strike-the-secret-history-of-joint-special-operations-command-e175824391.html',\n",
       "  'https://s.pdfdrive.com/assets/thumbs/26b/26b8ecf41e4661a20b296b20cb2c2843-s.jpg'),\n",
       " ('/relentless-seduction-e162494277.html',\n",
       "  'https://s.pdfdrive.com/assets/thumbs/cf9/cf966c46681d2262672110ca78382d15-s.jpg'),\n",
       " ('/crazy-love-overwhelmed-by-a-relentless-god-e157373777.html',\n",
       "  'https://s.pdfdrive.com/assets/thumbs/fd7/fd7ab82e0d6336b9060ac4e2fc3c915c-s.jpg'),\n",
       " ('/relentless-improvement-true-stories-of-lean-transformations-e173040225.html',\n",
       "  'https://s.pdfdrive.com/assets/thumbs/082/08209f3c3b713ca53b8bde796364fa46-s.jpg'),\n",
       " ('/badass-a-relentless-onslaught-of-the-toughest-warlords-vikings-samurai-pirates-gunfighters-e158555916.html',\n",
       "  'https://s.pdfdrive.com/assets/thumbs/fcf/fcf5e204f254d48281f2d9a4a11dabad-s.jpg'),\n",
       " ('/the-ultimate-sales-machine-turbocharge-your-business-with-relentless-focus-on-12-key-strategies-e158232411.html',\n",
       "  'https://s.pdfdrive.com/assets/thumbs/0b3/0b325146b2d4087dec0552bb383b28f7-s.jpg'),\n",
       " ('/relentless-forward-progress-a-guide-to-running-ultramarathons-e156738044.html',\n",
       "  'https://s.pdfdrive.com/assets/thumbs/669/669d706d05534cbcfc0a42179ecca280-s.jpg')]"
      ]
     },
     "execution_count": 32,
     "metadata": {},
     "output_type": "execute_result"
    }
   ],
   "source": [
    "book_links"
   ]
  },
  {
   "cell_type": "code",
   "execution_count": null,
   "metadata": {},
   "outputs": [],
   "source": []
  }
 ],
 "metadata": {
  "kernelspec": {
   "display_name": "Python 3",
   "language": "python",
   "name": "python3"
  },
  "language_info": {
   "codemirror_mode": {
    "name": "ipython",
    "version": 3
   },
   "file_extension": ".py",
   "mimetype": "text/x-python",
   "name": "python",
   "nbconvert_exporter": "python",
   "pygments_lexer": "ipython3",
   "version": "3.6.2"
  }
 },
 "nbformat": 4,
 "nbformat_minor": 2
}
