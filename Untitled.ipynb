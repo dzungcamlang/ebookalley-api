{
 "cells": [
  {
   "cell_type": "code",
   "execution_count": 35,
   "metadata": {},
   "outputs": [],
   "source": [
    "import requests\n",
    "from bs4 import BeautifulSoup\n",
    "\n",
    "res = requests.get('https://www.pdfdrive.com/crushing-it-d83749751.html')\n",
    "\n",
    "soup = BeautifulSoup(res.text, 'html.parser')\n",
    "\n",
    "js = soup.find_all('script')\n",
    "\n",
    "index = res.text.index('/ebook/broken')\n",
    "\n",
    "start = res.text[index+15:index+100]\n",
    "\n",
    "end = start.index(').d')\n",
    "\n",
    "string = start[:end]\n",
    "string\n",
    "\n",
    "import json\n",
    "\n",
    "string = string.replace('id','\"id\"').replace('session','\"session\"').replace('r','\"r\"')\n",
    "\n",
    "def quot_replace(string):\n",
    "    new_string = ''\n",
    "    for x,i in enumerate(string):\n",
    "        if i is \"'\":\n",
    "            new_string += '\"'\n",
    "        else:\n",
    "            new_string += i\n",
    "    return new_string\n",
    "\n",
    "string = quot_replace(string)\n",
    "\n",
    "data = json.loads(string)\n",
    "\n",
    "book_url = f\"https://www.pdfdrive.com/ebook/broken?id={data['id']}&session={data['session']}&r={data['r']}\""
   ]
  },
  {
   "cell_type": "code",
   "execution_count": 36,
   "metadata": {},
   "outputs": [],
   "source": [
    "#custom replace function\n",
    "def quot_replace(string):\n",
    "    new_string = ''\n",
    "    for x,i in enumerate(string):\n",
    "        if i is \"'\":\n",
    "            new_string += '\"'\n",
    "        else:\n",
    "            new_string += i\n",
    "    return new_string\n",
    "\n",
    "#method to get final url\n",
    "def get_book_url(base_url):\n",
    "    #inner method to get file url\n",
    "    def get_file_url(book_url):\n",
    "        res = requests.get(book_url)\n",
    "        soup = BeautifulSoup(res.text, 'html.parser')\n",
    "        url = soup.find('a')['href']\n",
    "        BASE_URL = 'https://pdfdrive.com'\n",
    "        if '/download' in url:\n",
    "            url = BASE_URL + url\n",
    "        return url\n",
    "        \n",
    "        \n",
    "    res = requests.get(base_url)\n",
    "    soup = BeautifulSoup(res.text, 'html.parser')\n",
    "    if '{id:' in res.text:\n",
    "        index = res.text.index('/ebook/broken')\n",
    "        start = res.text[index+15:index+100]\n",
    "        end = start.index(').d')\n",
    "        string = start[:end]\n",
    "        string = string.replace('id','\"id\"').replace('session','\"session\"').replace('r','\"r\"')\n",
    "        string = quot_replace(string)\n",
    "        data = json.loads(string)\n",
    "        book_url = f\"https://www.pdfdrive.com/ebook/broken?id={data['id']}&session={data['session']}&r={data['r']}\"\n",
    "        return get_file_url(book_url)\n"
   ]
  },
  {
   "cell_type": "code",
   "execution_count": 37,
   "metadata": {},
   "outputs": [
    {
     "data": {
      "text/plain": [
       "'https://pdfdrive.com/download.pdf?id=60375000&h=3ec6e7155bd469509b5d59796a2b5a38&u=cache'"
      ]
     },
     "execution_count": 37,
     "metadata": {},
     "output_type": "execute_result"
    }
   ],
   "source": [
    "get_book_url('https://www.pdfdrive.com/start-where-you-are-a-guide-to-compassionate-living-d60375000.html')"
   ]
  },
  {
   "cell_type": "code",
   "execution_count": 1,
   "metadata": {},
   "outputs": [],
   "source": [
    "#implementing the search feature\n",
    "\n",
    "url = 'https://www.pdfdrive.com/search?q=relentless'"
   ]
  },
  {
   "cell_type": "code",
   "execution_count": 65,
   "metadata": {},
   "outputs": [],
   "source": [
    "import re\n",
    "\n",
    "#link = 'https://pdfdrive.com/trentwaldron-glacier-half-marathon-5162018-1028-am-anchorage-running-club-1-of-78-last-name-e92912695.html'\n",
    "def get_dpage_link(link):\n",
    "    part = re.findall(r'(-e[0-9]\\d+)', link)[0]\n",
    "\n",
    "    new_link = ''\n",
    "    for x,i in enumerate(link):\n",
    "        if x == link.find(part)+1:\n",
    "            i = 'd'\n",
    "        new_link += i"
   ]
  },
  {
   "cell_type": "code",
   "execution_count": 66,
   "metadata": {},
   "outputs": [],
   "source": [
    "get_dpage_link('https://pdfdrive.com/the-5-am-club-e176179760.html')"
   ]
  },
  {
   "cell_type": "code",
   "execution_count": null,
   "metadata": {},
   "outputs": [],
   "source": []
  },
  {
   "cell_type": "code",
   "execution_count": null,
   "metadata": {},
   "outputs": [],
   "source": []
  },
  {
   "cell_type": "code",
   "execution_count": null,
   "metadata": {},
   "outputs": [],
   "source": []
  }
 ],
 "metadata": {
  "kernelspec": {
   "display_name": "Python 3",
   "language": "python",
   "name": "python3"
  },
  "language_info": {
   "codemirror_mode": {
    "name": "ipython",
    "version": 3
   },
   "file_extension": ".py",
   "mimetype": "text/x-python",
   "name": "python",
   "nbconvert_exporter": "python",
   "pygments_lexer": "ipython3",
   "version": "3.6.2"
  }
 },
 "nbformat": 4,
 "nbformat_minor": 2
}
